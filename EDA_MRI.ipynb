{
 "cells": [
  {
   "cell_type": "markdown",
   "id": "33f9cf2d",
   "metadata": {},
   "source": [
    "# Advanced Exploratory Data Analysis of Brain Tumor Data"
   ]
  },
  {
   "cell_type": "markdown",
   "id": "6f6d6353",
   "metadata": {},
   "source": [
    "## Import dependencies"
   ]
  },
  {
   "cell_type": "code",
   "execution_count": null,
   "id": "477f55d3",
   "metadata": {},
   "outputs": [],
   "source": [
    "import os\n",
    "import ast\n",
    "import json\n",
    "import glob\n",
    "import random\n",
    "import collections\n",
    "from tqdm import tqdm\n",
    "import gc\n",
    "\n",
    "# Visualization\n",
    "import matplotlib.pyplot as plt\n",
    "import matplotlib.image as mpimg\n",
    "\n",
    "import numpy as np\n",
    "import pandas as pd\n",
    "import pydicom\n",
    "from pydicom.pixel_data_handlers.util import apply_voi_lut\n",
    "import cv2\n",
    "import matplotlib.pyplot as plt\n",
    "import seaborn as sns\n",
    "\n",
    "# Seed for reproducability\n",
    "seed = 1234\n",
    "np.random.seed(seed)"
   ]
  },
  {
   "cell_type": "markdown",
   "id": "a91f9415",
   "metadata": {},
   "source": [
    "## Quick EDA and data Visualization"
   ]
  },
  {
   "cell_type": "code",
   "execution_count": null,
   "id": "bd2d4335",
   "metadata": {},
   "outputs": [],
   "source": [
    "# Paths \n",
    "KAGGLE_DIR = '../input/rsna-miccai-brain-tumor-radiogenomic-classification/'\n",
    "IMG_PATH_TRAIN = KAGGLE_DIR + 'train/'\n",
    "IMG_PATH_TEST = KAGGLE_DIR + 'test/'\n",
    "TRAIN_CSV_PATH = KAGGLE_DIR + 'train_labels.csv'\n",
    "TEST_CSV_PATH = KAGGLE_DIR + 'sample_submission.csv'"
   ]
  },
  {
   "cell_type": "code",
   "execution_count": null,
   "id": "c5c4da14",
   "metadata": {},
   "outputs": [],
   "source": [
    "train_df = pd.read_csv(TRAIN_CSV_PATH)\n",
    "display(train_df.head(5))\n",
    "print('MGMT counts:')\n",
    "train_df.MGMT_value.value_counts()"
   ]
  },
  {
   "cell_type": "code",
   "execution_count": null,
   "id": "0b22f668",
   "metadata": {},
   "outputs": [],
   "source": [
    "plt.figure(figsize=(5, 5))\n",
    "plt.title('Train csv')\n",
    "sns.countplot(data=train_df, x=\"MGMT_value\");"
   ]
  },
  {
   "cell_type": "code",
   "execution_count": null,
   "id": "3d56d7e8",
   "metadata": {},
   "outputs": [],
   "source": [
    "test_df = pd.read_csv(TEST_CSV_PATH)\n",
    "display(test_df.head(5))\n",
    "print('MGMT counts:')\n",
    "test_df.MGMT_value.value_counts()"
   ]
  },
  {
   "cell_type": "code",
   "execution_count": null,
   "id": "e193715c",
   "metadata": {},
   "outputs": [],
   "source": [
    "plt.figure(figsize=(5, 5))\n",
    "plt.title('Test csv')\n",
    "sns.countplot(data=test_df, x=\"MGMT_value\");"
   ]
  },
  {
   "cell_type": "code",
   "execution_count": null,
   "id": "f0bffbf6",
   "metadata": {},
   "outputs": [],
   "source": [
    "# All filenames for train and test images\n",
    "train_images = os.listdir(IMG_PATH_TRAIN)\n",
    "test_images = os.listdir(IMG_PATH_TEST)"
   ]
  },
  {
   "cell_type": "code",
   "execution_count": null,
   "id": "cc8f4fa5",
   "metadata": {},
   "outputs": [],
   "source": [
    "def load_dicom(path):\n",
    "    # read file\n",
    "    dicom = pydicom.read_file(path)\n",
    "    # get pixel data into a useful format. \n",
    "    data = dicom.pixel_array\n",
    "    # transform data into black and white scale / grayscale\n",
    "    data = data - np.min(data)\n",
    "    if np.max(data) != 0:\n",
    "        data = data / np.max(data)\n",
    "    data = (data * 255).astype(np.uint8)\n",
    "    return data\n",
    "\n",
    "\n",
    "def visualize_sample(\n",
    "    brats21id, \n",
    "    slice_i,\n",
    "    mgmt_value,\n",
    "    types=(\"FLAIR\", \"T1w\", \"T1wCE\", \"T2w\")\n",
    "):\n",
    "    plt.figure(figsize=(16, 5))\n",
    "    patient_path = os.path.join(\n",
    "        IMG_PATH_TRAIN, \n",
    "        str(brats21id).zfill(5),\n",
    "    )\n",
    "    for i, t in enumerate(types, 1):\n",
    "        t_paths = sorted(\n",
    "            glob.glob(os.path.join(patient_path, t, \"*\")), \n",
    "            key=lambda x: int(x[:-4].split(\"-\")[-1]),\n",
    "        )\n",
    "        data = load_dicom(t_paths[int(len(t_paths) * slice_i)])\n",
    "        plt.subplot(1, 4, i)\n",
    "        plt.imshow(data, cmap=\"gray\")\n",
    "        plt.title(f\"{t}\", fontsize=16)\n",
    "        plt.axis(\"off\")\n",
    "\n",
    "    plt.suptitle(f\"MGMT_value: {mgmt_value}\", fontsize=16)\n",
    "    plt.show()"
   ]
  },
  {
   "cell_type": "code",
   "execution_count": null,
   "id": "2c7f0231",
   "metadata": {},
   "outputs": [],
   "source": [
    "for i in random.sample(range(train_df.shape[0]), 10): # get 10 random indexes from the train ds\n",
    "    _brats21id = train_df.iloc[i][\"BraTS21ID\"] # for these indexes get the associated brats ID\n",
    "    _mgmt_value = train_df.iloc[i][\"MGMT_value\"] # and tumor class\n",
    "    visualize_sample(brats21id=_brats21id, mgmt_value=_mgmt_value, slice_i=0.5) # visualize samples"
   ]
  },
  {
   "cell_type": "code",
   "execution_count": null,
   "id": "5a3e0327",
   "metadata": {},
   "outputs": [],
   "source": [
    "from matplotlib import animation, rc\n",
    "rc('animation', html='jshtml')\n",
    "\n",
    "\n",
    "def create_animation(ims):\n",
    "    fig = plt.figure(figsize=(6, 6))\n",
    "    plt.axis('off')\n",
    "    im = plt.imshow(ims[0], cmap=\"gray\")\n",
    "\n",
    "    def animate_func(i):\n",
    "        im.set_array(ims[i])\n",
    "        return [im]\n",
    "\n",
    "    return animation.FuncAnimation(fig, animate_func, frames = len(ims), interval = 1000//24)"
   ]
  },
  {
   "cell_type": "code",
   "execution_count": null,
   "id": "735cdf3a",
   "metadata": {},
   "outputs": [],
   "source": [
    "def load_dicom_line(path):\n",
    "    t_paths = sorted(\n",
    "        glob.glob(os.path.join(path, \"*\")), \n",
    "        key=lambda x: int(x[:-4].split(\"-\")[-1]),\n",
    "    )\n",
    "    images = []\n",
    "    for filename in t_paths:\n",
    "        data = load_dicom(filename)\n",
    "        if data.max() == 0:\n",
    "            continue\n",
    "        images.append(data)\n",
    "        \n",
    "    return images"
   ]
  },
  {
   "cell_type": "markdown",
   "id": "14dd37a3",
   "metadata": {},
   "source": [
    "## EDA of DICOM files"
   ]
  },
  {
   "cell_type": "code",
   "execution_count": null,
   "id": "2794030f",
   "metadata": {},
   "outputs": [],
   "source": [
    "IMG_PATH_TRAIN = \"../input/rsna-miccai-brain-tumor-radiogenomic-classification/train/\"\n",
    "IMG_PATH_TEST = \"../input/rsna-miccai-brain-tumor-radiogenomic-classification/test/\""
   ]
  },
  {
   "cell_type": "code",
   "execution_count": null,
   "id": "c7d00077",
   "metadata": {},
   "outputs": [],
   "source": [
    "# review training directory\n",
    "s_sizes = [] # list of no. of scans present for each patient\n",
    "p_sizes = [] # list of no. of dcm files present for each patient\n",
    "patient_id = [] # patient id\n",
    "file_paths = [] # file_paths\n",
    "\n",
    "for d in os.listdir(IMG_PATH_TRAIN):\n",
    "#     print(\"Patient '{}' has {} scans and a total of {} DICOM images\".format(d, len(os.listdir(TRAIN_DIR + d)), len(glob.glob(TRAIN_DIR+ d + \"/*/*.dcm\"))))\n",
    "    s_sizes.append(len(os.listdir(IMG_PATH_TRAIN + d)))\n",
    "    p_sizes.append(len(glob.glob(IMG_PATH_TRAIN + d + \"/*/*.dcm\")))\n",
    "    patient_id.append(d)\n",
    "\n",
    "patient_files_df = pd.DataFrame(\n",
    "    {'patient_id': patient_id,\n",
    "     'file_count': p_sizes,\n",
    "    })\n",
    "    \n",
    "print('----')\n",
    "print('Total patients {} Total DCM files {}'.format(len(os.listdir(IMG_PATH_TRAIN)), \n",
    "                                                      len(glob.glob(IMG_PATH_TRAIN+ \"/*/*/*.dcm\"))))\n",
    "\n",
    "print('----')\n",
    "print('TRAIN Dataframe with File Count per Patient ')\n",
    "display(patient_files_df.head(5))\n",
    "\n",
    "print('----')\n",
    "print('Verify total File Count for all Patients ')\n",
    "print('Total number of patients:', patient_files_df.shape[0])\n",
    "\n",
    "print('Total file count:', patient_files_df.file_count.sum())"
   ]
  },
  {
   "cell_type": "code",
   "execution_count": null,
   "id": "c9f259a9",
   "metadata": {},
   "outputs": [],
   "source": [
    "f = []\n",
    "for (dirpath, dirnames, filenames) in os.walk(IMG_PATH_TRAIN):\n",
    "    f.extend(os.path.join(dirpath, x) for x in filenames)\n",
    "    \n",
    "train_file_paths_df = pd.DataFrame({'file_paths': f})\n",
    "train_file_paths_df['train_dir'] = IMG_PATH_TRAIN\n",
    "train_file_paths_df['patient_id'] = train_file_paths_df['file_paths'].str.split(\"/\", n = 7, expand = True)[4]\n",
    "train_file_paths_df['scan_type'] = train_file_paths_df['file_paths'].str.split(\"/\", n = 7, expand = True)[5]\n",
    "train_file_paths_df['file'] = train_file_paths_df['file_paths'].str.split(\"/\", n = 7, expand = True)[6]\n",
    "display(train_file_paths_df.head(2))\n",
    "train_file_paths_df.shape[0]"
   ]
  },
  {
   "cell_type": "code",
   "execution_count": null,
   "id": "dee454a8",
   "metadata": {},
   "outputs": [],
   "source": [
    "print('Possible Number of scans for all patients:', set(s_sizes))"
   ]
  },
  {
   "cell_type": "code",
   "execution_count": null,
   "id": "e70bb876",
   "metadata": {},
   "outputs": [],
   "source": [
    "# lets visualize trainig data\n",
    "p = sns.color_palette()\n",
    "plt.hist(p_sizes, color=p[2])\n",
    "plt.ylabel('Number of patients')\n",
    "plt.xlabel('Count of DICOM files')\n",
    "plt.title('Histogram of DICOM count per patient - Training Data');"
   ]
  },
  {
   "cell_type": "code",
   "execution_count": null,
   "id": "7946c0f7",
   "metadata": {},
   "outputs": [],
   "source": [
    "# review test directory\n",
    "s_sizes = [] # list of no. of scans present for each patient\n",
    "p_sizes = [] # list of no. of dcm files present for each patient\n",
    "patient_id = [] # patient id\n",
    "\n",
    "for d in os.listdir(IMG_PATH_TEST):\n",
    "#     print(\"Patient '{}' has {} scans and a total of {} DICOM images\".format(d, \n",
    "#                     len(os.listdir(IMG_PATH_TEST + d)), len(glob.glob(IMG_PATH_TEST+ d + \"/*/*.dcm\"))))\n",
    "    s_sizes.append(len(os.listdir(IMG_PATH_TEST + d)))\n",
    "    p_sizes.append(len(glob.glob(IMG_PATH_TEST + d + \"/*/*.dcm\")))\n",
    "    patient_id.append(d)\n",
    "\n",
    "patient_files_df = pd.DataFrame(\n",
    "    {'patient_id': patient_id,\n",
    "     'file_count': p_sizes,\n",
    "    })\n",
    "    \n",
    "print('----')\n",
    "print('Total patients {} Total DCM files {}'.format(len(os.listdir(IMG_PATH_TEST)), \n",
    "                                                      len(glob.glob(IMG_PATH_TEST+ \"/*/*/*.dcm\"))))\n",
    "print('----')\n",
    "print('TRAIN Dataframe with File Count per Patient ')\n",
    "display(patient_files_df.head(5))\n",
    "\n",
    "print('----')\n",
    "print('Verify total File Count for all Patients ')\n",
    "print('Total number of patients:', patient_files_df.shape[0])\n",
    "\n",
    "print('Total file count:', patient_files_df.file_count.sum())"
   ]
  },
  {
   "cell_type": "code",
   "execution_count": null,
   "id": "fd99734b",
   "metadata": {},
   "outputs": [],
   "source": [
    "f = []\n",
    "for (dirpath, dirnames, filenames) in os.walk(IMG_PATH_TEST):\n",
    "    f.extend(os.path.join(dirpath, x) for x in filenames)\n",
    "    \n",
    "test_file_paths_df = pd.DataFrame({'file_paths': f})\n",
    "test_file_paths_df['train_dir'] = IMG_PATH_TEST\n",
    "test_file_paths_df['patient_id'] = test_file_paths_df['file_paths'].str.split(\"/\", n = 7, expand = True)[4]\n",
    "test_file_paths_df['scan_type'] = test_file_paths_df['file_paths'].str.split(\"/\", n = 7, expand = True)[5]\n",
    "test_file_paths_df['file'] = test_file_paths_df['file_paths'].str.split(\"/\", n = 7, expand = True)[6]\n",
    "display(test_file_paths_df.head(2))\n",
    "test_file_paths_df.shape[0]"
   ]
  },
  {
   "cell_type": "code",
   "execution_count": null,
   "id": "e981b89c",
   "metadata": {},
   "outputs": [],
   "source": [
    "print('Possible Number of scans for all patients:', set(s_sizes))"
   ]
  },
  {
   "cell_type": "code",
   "execution_count": null,
   "id": "0824113d",
   "metadata": {},
   "outputs": [],
   "source": [
    "# lets visualize test data\n",
    "p = sns.color_palette()\n",
    "plt.hist(p_sizes, color=p[2])\n",
    "plt.ylabel('Number of patients')\n",
    "plt.xlabel('Count of DICOM files')\n",
    "plt.title('Histogram of DICOM count per patient - Training Data');"
   ]
  },
  {
   "cell_type": "markdown",
   "id": "04ed2e9f",
   "metadata": {},
   "source": [
    "## EDA of DICOM Metadata"
   ]
  },
  {
   "cell_type": "code",
   "execution_count": null,
   "id": "f8502cf9",
   "metadata": {},
   "outputs": [],
   "source": [
    "# All columns for which we want to collect information\n",
    "meta_cols = ['SpecificCharacterSet','ImageType','SOPClassUID',\n",
    "             'SOPInstanceUID','AccessionNumber','Modality', 'SeriesDescription', \n",
    "             'PatientID', 'MRAcquisitionType', 'SliceThickness', \n",
    "             'EchoTime', 'NumberOfAverages', 'ImagingFrequency', 'ImagedNucleus', \n",
    "             'MagneticFieldStrength', 'SpacingBetweenSlices', \n",
    "             'EchoTrainLength', 'PercentSampling', 'PercentPhaseFieldOfView',\n",
    "             'PixelBandwidth', 'TriggerWindow', 'ReconstructionDiameter', 'AcquisitionMatrix',\n",
    "             'FlipAngle', 'SAR', 'PatientPosition',\n",
    "             'StudyInstanceUID', 'SeriesInstanceUID', 'SeriesNumber', 'InstanceNumber',\n",
    "             'ImagePositionPatient', 'ImageOrientationPatient', 'Laterality',\n",
    "             'PositionReferenceIndicator', 'SliceLocation', 'InStackPositionNumber',\n",
    "             'SamplesPerPixel', 'PhotometricInterpretation', 'Rows', 'Columns', 'PixelSpacing',\n",
    "             'BitsAllocated', 'BitsStored', 'HighBit', 'PixelRepresentation', 'WindowCenter',\n",
    "             'WindowWidth', 'RescaleIntercept', 'RescaleSlope', 'RescaleType']"
   ]
  },
  {
   "cell_type": "code",
   "execution_count": null,
   "id": "fd4c6bdd",
   "metadata": {},
   "outputs": [],
   "source": [
    "# Initialize dictionaries to collect the metadata\n",
    "col_dict_train = {col: [] for col in meta_cols}\n",
    "col_dict_test = {col: [] for col in meta_cols}"
   ]
  },
  {
   "cell_type": "code",
   "execution_count": null,
   "id": "ac6abb29",
   "metadata": {},
   "outputs": [],
   "source": [
    "test_meta_df = pd.read_csv(\"../input/stage0-metadata-rsna/stage_0_test_with_metadata.csv\")\n",
    "train_meta_df = pd.read_csv(\"../input/stage0-metadata-rsna/stage_0_train_with_metadata.csv\")"
   ]
  },
  {
   "cell_type": "code",
   "execution_count": null,
   "id": "b100e88f",
   "metadata": {},
   "outputs": [],
   "source": [
    "meta_attr = []\n",
    "num_unique = []\n",
    "\n",
    "for col in train_meta_df:\n",
    "#     print(\"* For attribute  '{}' , there are [ {} ] unique values.\".format(col,\n",
    "#                     len(train_meta_df[col].unique())))\n",
    "    meta_attr.append(col)\n",
    "    num_unique.append(len(train_meta_df[col].unique()))\n",
    "    \n",
    "train_meta_values_df = pd.DataFrame(\n",
    "    {'attribute': meta_attr,\n",
    "     'value_count': num_unique,\n",
    "     'nan_count': train_meta_df.isna().sum()\n",
    "    })\n",
    "\n",
    "train_meta_values_df = train_meta_values_df.sort_values(by=['value_count'], ascending=False).reset_index(drop=True)\n",
    "train_meta_values_df"
   ]
  },
  {
   "cell_type": "code",
   "execution_count": null,
   "id": "de30da20",
   "metadata": {},
   "outputs": [],
   "source": [
    "meta_attr = []\n",
    "num_unique = []\n",
    "\n",
    "for col in test_meta_df:\n",
    "#     print(\"* For attribute  '{}' , there are [ {} ] unique values.\".format(col,\n",
    "#                     len(train_meta_df[col].unique())))\n",
    "    meta_attr.append(col)\n",
    "    num_unique.append(len(test_meta_df[col].unique()))\n",
    "    \n",
    "test_meta_values_df = pd.DataFrame(\n",
    "    {'attribute': meta_attr,\n",
    "     'value_count': num_unique,\n",
    "     'nan_count': test_meta_df.isna().sum()\n",
    "    })\n",
    "\n",
    "test_meta_values_df = test_meta_values_df.sort_values(by=['value_count'], ascending=False).reset_index(drop=True)\n",
    "test_meta_values_df"
   ]
  },
  {
   "cell_type": "code",
   "execution_count": null,
   "id": "8455187d",
   "metadata": {},
   "outputs": [],
   "source": [
    "def color_code_by_vcount(df):\n",
    "    if df['value_count'] == 1.0:\n",
    "        return 'k' # Single unique value, color-code black\n",
    "    elif df['value_count'] <= 1000.0:\n",
    "        return 'b' # Unique value count between one and 1000, color-code blue\n",
    "    else:\n",
    "        return 'r' # Unique value count more than > 1000, color-code red\n",
    "\n",
    "train_mv_df = train_meta_values_df.copy().set_index(\"attribute\")\n",
    "train_mv_df['color'] = train_mv_df.apply(color_code_by_vcount, axis=1)\n",
    "\n",
    "ax = train_mv_df['value_count'].plot(kind='bar',\n",
    "                                    figsize=(14,8),  color=train_mv_df['color'],\n",
    "                                    title=\"Number of Unique Values per Attribute [LOG SCALE]\")\n",
    "ax.set_xlabel(\"Metadata Attribute\")\n",
    "ax.set_ylabel(\"Unique Number of Values [LOG SCALE]\")\n",
    "ax.set_yscale('log');"
   ]
  },
  {
   "cell_type": "code",
   "execution_count": null,
   "id": "65358374",
   "metadata": {},
   "outputs": [],
   "source": [
    "f, axes = plt.subplots(1, 2, figsize=(15,15))\n",
    "\n",
    "nans = train_meta_df.isna().sum().sort_values(ascending=False)\n",
    "sns.barplot(y=nans.index, x=nans, orient='h', ax = axes[0])\n",
    "axes[0].set_title(\"Train NaN Count\")\n",
    "\n",
    "nans_test = test_meta_df.isna().sum().sort_values(ascending=False)\n",
    "sns.barplot(y=nans_test.index, x=nans_test, orient='h', ax = axes[1])\n",
    "axes[1].yaxis.set_ticks_position(\"right\")\n",
    "axes[1].set_title(\"Test NaN Count\");"
   ]
  },
  {
   "cell_type": "code",
   "execution_count": null,
   "id": "1f31e088",
   "metadata": {},
   "outputs": [],
   "source": [
    "merged_meta_attrs = pd.merge(train_meta_values_df, test_meta_values_df, on=\"attribute\", \n",
    "                             suffixes=(\"_train\",\"_test\"))\n",
    "merged_meta_attrs"
   ]
  },
  {
   "cell_type": "code",
   "execution_count": null,
   "id": "deb83236",
   "metadata": {},
   "outputs": [],
   "source": [
    "'''Print attributes unique values for low value count and descrepancy between test and train.'''\n",
    "print(train_meta_df[\"SpecificCharacterSet\"].unique())\n",
    "print(test_meta_df[\"PositionReferenceIndicator\"].unique())"
   ]
  },
  {
   "cell_type": "code",
   "execution_count": null,
   "id": "abf777ff",
   "metadata": {},
   "outputs": [],
   "source": [
    "list_drop_attrs = [\"SOPInstanceUID\",\"ImagePositionPatient\",\"SliceLocation\",\"WindowWidth\",\n",
    "                   \"WindowCenter\",\"SeriesInstanceUID\",\"SAR\",\"ImageOrientationPatient\",\n",
    "                   \"ImagingFrequency\",\"AccessionNumber\",\"StudyInstanceUID\",\"HighBit\",\n",
    "                   \"RescaleIntercept\",\"BitsStored\",\"BitsAllocated\",\"RescaleSlope\",\n",
    "                   \"PatientPosition\",\"PhotometricInterpretation\",\"SamplesPerPixel\",\n",
    "                   \"PositionReferenceIndicator\",\"Laterality\",'ImageType',\"SpacingBetweenSlices\",\n",
    "                   \"Modality\",\"SOPClassUID\",\"RescaleType\",]"
   ]
  },
  {
   "cell_type": "code",
   "execution_count": null,
   "id": "9f043fd8",
   "metadata": {},
   "outputs": [],
   "source": [
    "print(\"Columns before : \", len(train_meta_df.columns))\n",
    "train_meta_df_useful = train_meta_df.drop(list_drop_attrs, axis=1)\n",
    "print(\"Columns after : \", len(train_meta_df_useful.columns))"
   ]
  },
  {
   "cell_type": "code",
   "execution_count": null,
   "id": "f7ee0858",
   "metadata": {},
   "outputs": [],
   "source": [
    "sizes = train_meta_df.apply(lambda x: f'{x.Rows}x{x.Columns}', axis=1)\n",
    "plt.figure(figsize=(15, 8))\n",
    "plt.xticks(rotation=45)\n",
    "sns.countplot(sizes);"
   ]
  },
  {
   "cell_type": "code",
   "execution_count": null,
   "id": "ece4f7e8",
   "metadata": {},
   "outputs": [],
   "source": [
    "sns.countplot(train_meta_df.SeriesDescription);"
   ]
  },
  {
   "cell_type": "code",
   "execution_count": null,
   "id": "91241375",
   "metadata": {},
   "outputs": [],
   "source": [
    "plt.figure(figsize=(12, 5))\n",
    "plt.xticks(rotation=45)\n",
    "sns.countplot(train_meta_df.SliceThickness);"
   ]
  },
  {
   "cell_type": "code",
   "execution_count": null,
   "id": "88faaab7",
   "metadata": {},
   "outputs": [],
   "source": [
    "sns.jointplot(data=train_meta_df, x='SliceThickness', y='SpacingBetweenSlices');"
   ]
  },
  {
   "cell_type": "code",
   "execution_count": null,
   "id": "26fb4455",
   "metadata": {},
   "outputs": [],
   "source": [
    "sns.countplot(train_meta_df.NumberOfAverages);"
   ]
  },
  {
   "cell_type": "code",
   "execution_count": null,
   "id": "b675ba05",
   "metadata": {},
   "outputs": [],
   "source": [
    "sns.countplot(train_meta_df.MagneticFieldStrength);"
   ]
  },
  {
   "cell_type": "code",
   "execution_count": null,
   "id": "c3b83549",
   "metadata": {},
   "outputs": [],
   "source": [
    "plt.figure(figsize=(12, 5))\n",
    "plt.xticks(rotation=45)\n",
    "sns.countplot(train_meta_df.ReconstructionDiameter);"
   ]
  },
  {
   "cell_type": "code",
   "execution_count": null,
   "id": "96dd4b16",
   "metadata": {},
   "outputs": [],
   "source": [
    "fig, ax = plt.subplots(figsize=(10,10))   \n",
    "sns.heatmap(train_meta_df.corr(), ax =ax)"
   ]
  },
  {
   "cell_type": "markdown",
   "id": "b124f84d",
   "metadata": {},
   "source": [
    "## EDA of pixel data"
   ]
  },
  {
   "cell_type": "code",
   "execution_count": null,
   "id": "9c007d99",
   "metadata": {},
   "outputs": [],
   "source": [
    "def image_stats(image):\n",
    "    nonzero_pixels = image[np.nonzero(image)]\n",
    "    if nonzero_pixels.shape == (0,):\n",
    "        mean = 0\n",
    "        std = 0\n",
    "    else:\n",
    "        mean = np.mean(nonzero_pixels)\n",
    "        std = np.std(nonzero_pixels)\n",
    "    return (mean,std)\n",
    "\n",
    "def plot_image_hist(image, threshold = 1.5, normalize = False):\n",
    "    pixels = image.ravel()\n",
    "    nonzero_pixels = pixels[np.nonzero(pixels)]\n",
    "    (mean,std) = image_stats(nonzero_pixels)\n",
    "    if normalize:\n",
    "        nonzero_pixels = (nonzero_pixels - mean) / std\n",
    "        (mean,std) = image_stats(nonzero_pixels)\n",
    "    over_threshold = np.count_nonzero(nonzero_pixels > mean + threshold * std)\n",
    "\n",
    "    fig, (axi, axh) = plt.subplots(1, 2, figsize = (20,3), \n",
    "                                   gridspec_kw={'width_ratios': [1, 4]})\n",
    "    fig.suptitle(f'Pixels over threshold # ({over_threshold})')\n",
    "\n",
    "    axh.hist(nonzero_pixels, 200)\n",
    "\n",
    "    ax_limits = axh.get_ylim()\n",
    "    axh.vlines(mean, ymin=ax_limits[0], \n",
    "               ymax=ax_limits[1], colors='b')\n",
    "    axh.vlines(mean+std, ymin=ax_limits[0], \n",
    "               ymax=ax_limits[1], colors='b', linestyles='dotted')\n",
    "    axh.vlines(mean + threshold * std, ymin=ax_limits[0], \n",
    "               ymax=ax_limits[1], colors='b', linestyles='dashed')\n",
    "    axi.imshow(image, cmap = plt.cm.gray)\n",
    "    axi.grid(False)\n",
    "    axi.axis('off')\n",
    "    plt.show()"
   ]
  },
  {
   "cell_type": "code",
   "execution_count": null,
   "id": "ccff08ea",
   "metadata": {},
   "outputs": [],
   "source": [
    "img = load_dicom(\"../input/rsna-miccai-brain-tumor-radiogenomic-classification/train/00000/T2w/Image-200.dcm\")\n",
    "plot_image_hist(img, threshold = 2, normalize = True)"
   ]
  },
  {
   "cell_type": "code",
   "execution_count": null,
   "id": "4fca4dce",
   "metadata": {},
   "outputs": [],
   "source": [
    "plot_image_hist(img, threshold = 2, normalize = False)"
   ]
  },
  {
   "cell_type": "code",
   "execution_count": null,
   "id": "c7b3fb9f",
   "metadata": {},
   "outputs": [],
   "source": [
    "def visualize_hist_sample_image(\n",
    "    brats21id, \n",
    "    slice_i,\n",
    "    mgmt_value,\n",
    "    types=(\"FLAIR\", \"T1w\", \"T1wCE\", \"T2w\"),\n",
    "    threshold = 1.5, normalize = False\n",
    "):\n",
    "    plt.figure(figsize=(16, 5))\n",
    "    patient_path = os.path.join(\n",
    "        IMG_PATH_TRAIN, \n",
    "        str(brats21id).zfill(5),\n",
    "    )\n",
    "    for i, t in enumerate(types, 1):\n",
    "        t_paths = sorted(\n",
    "            glob.glob(os.path.join(patient_path, t, \"*\")), \n",
    "            key=lambda x: int(x[:-4].split(\"-\")[-1]),\n",
    "        )\n",
    "        image = load_dicom(t_paths[int(len(t_paths) * slice_i)])\n",
    "        pixels = image.ravel()\n",
    "        nonzero_pixels = pixels[np.nonzero(pixels)]\n",
    "        (mean,std) = image_stats(nonzero_pixels)\n",
    "        if normalize:\n",
    "            nonzero_pixels = (nonzero_pixels - mean) / std\n",
    "            (mean,std) = image_stats(nonzero_pixels)\n",
    "        over_threshold = np.count_nonzero(nonzero_pixels > mean + threshold * std)\n",
    "\n",
    "        fig, (axi, axh) = plt.subplots(1, 2, figsize = (20,3), \n",
    "                                       gridspec_kw={'width_ratios': [1, 4]});\n",
    "\n",
    "        axh.hist(nonzero_pixels, 200)\n",
    "\n",
    "        ax_limits = axh.get_ylim()\n",
    "        axh.vlines(mean, ymin=ax_limits[0], \n",
    "                   ymax=ax_limits[1], colors='b')\n",
    "        axh.vlines(mean+std, ymin=ax_limits[0], \n",
    "                   ymax=ax_limits[1], colors='b', linestyles='dotted')\n",
    "        axh.vlines(mean + threshold * std, ymin=ax_limits[0], \n",
    "                   ymax=ax_limits[1], colors='b', linestyles='dashed')\n",
    "        axi.imshow(image, cmap = plt.cm.gray)\n",
    "        axi.grid(False)\n",
    "        plt.title(f\"{t}: pixels over threshold # ({over_threshold})\", fontsize=16)\n",
    "        axi.axis('off')\n",
    "#     plt.suptitle(f\"MGMT_value: {mgmt_value}\", fontsize=16)\n",
    "    plt.show()\n",
    "    print(f\"MGMT_value: {mgmt_value}\")"
   ]
  },
  {
   "cell_type": "code",
   "execution_count": null,
   "id": "1f4a54cd",
   "metadata": {},
   "outputs": [],
   "source": [
    "for i in random.sample(range(train_df.shape[0]), 2): # get 10 random indexes from the train ds\n",
    "    _brats21id = train_df.iloc[i][\"BraTS21ID\"] # for these indexes get the associated brats ID\n",
    "    _mgmt_value = train_df.iloc[i][\"MGMT_value\"] # and tumor class\n",
    "    visualize_hist_sample_image(brats21id=_brats21id, mgmt_value=_mgmt_value, slice_i=0.5,\n",
    "                           threshold = 2, normalize = True) # visualize samples"
   ]
  },
  {
   "cell_type": "code",
   "execution_count": null,
   "id": "95a34424",
   "metadata": {},
   "outputs": [],
   "source": [
    "def visualize_masked_sample(\n",
    "    brats21id, \n",
    "    slice_i,\n",
    "    mgmt_value,\n",
    "    types=(\"FLAIR\", \"T1w\", \"T1wCE\", \"T2w\"),\n",
    "    threshold = -1\n",
    "):\n",
    "    plt.figure(figsize=(16, 5))\n",
    "    patient_path = os.path.join(\n",
    "        IMG_PATH_TRAIN, \n",
    "        str(brats21id).zfill(5),\n",
    "    )\n",
    "    for i, t in enumerate(types, 1):\n",
    "        t_paths = sorted(\n",
    "            glob.glob(os.path.join(patient_path, t, \"*\")), \n",
    "            key=lambda x: int(x[:-4].split(\"-\")[-1]),\n",
    "        )\n",
    "        data = load_dicom(t_paths[int(len(t_paths) * slice_i)])\n",
    "        if threshold > -1:\n",
    "            data[data < threshold] = 0\n",
    "        plt.subplot(1, 4, i)\n",
    "        plt.imshow(data, cmap=\"gray\")\n",
    "        plt.title(f\"{t}\", fontsize=16)\n",
    "        plt.axis(\"off\")\n",
    "\n",
    "    plt.suptitle(f\"MGMT_value: {mgmt_value}\", fontsize=16)\n",
    "    plt.show()"
   ]
  },
  {
   "cell_type": "code",
   "execution_count": null,
   "id": "680ccde4",
   "metadata": {},
   "outputs": [],
   "source": [
    "i = 520\n",
    "_brats21id = train_df.iloc[i][\"BraTS21ID\"] # for these indexes get the associated brats ID\n",
    "_mgmt_value = train_df.iloc[i][\"MGMT_value\"] # and tumor class\n",
    "visualize_sample(brats21id=_brats21id, mgmt_value=_mgmt_value, slice_i=0.5) # visualize samples"
   ]
  },
  {
   "cell_type": "code",
   "execution_count": null,
   "id": "86d322ff",
   "metadata": {},
   "outputs": [],
   "source": [
    "i = 520\n",
    "_brats21id = train_df.iloc[i][\"BraTS21ID\"] # for these indexes get the associated brats ID\n",
    "_mgmt_value = train_df.iloc[i][\"MGMT_value\"] # and tumor class\n",
    "visualize_masked_sample(brats21id=_brats21id, mgmt_value=_mgmt_value, slice_i=0.4,\n",
    "                           threshold = 80) # visualize samples"
   ]
  },
  {
   "cell_type": "code",
   "execution_count": null,
   "id": "4798132e",
   "metadata": {},
   "outputs": [],
   "source": [
    "i = 520\n",
    "_brats21id = train_df.iloc[i][\"BraTS21ID\"] # for these indexes get the associated brats ID\n",
    "_mgmt_value = train_df.iloc[i][\"MGMT_value\"] # and tumor class\n",
    "visualize_masked_sample(brats21id=_brats21id, mgmt_value=_mgmt_value, slice_i=0.5,\n",
    "                           threshold = 120) # visualize samples"
   ]
  },
  {
   "cell_type": "code",
   "execution_count": null,
   "id": "4d67ff02",
   "metadata": {},
   "outputs": [],
   "source": [
    "train_px_df = pd.read_csv('/kaggle/input/train-test-filepaths-rsna-full/stats_train_file_paths_df.csv')\n",
    "test_px_df = pd.read_csv('/kaggle/input/train-test-filepaths-rsna-full/stats_test_file_paths_df.csv')"
   ]
  },
  {
   "cell_type": "code",
   "execution_count": null,
   "id": "b658e8fb",
   "metadata": {},
   "outputs": [],
   "source": [
    "stats_cols = []\n",
    "num_unique = []\n",
    "\n",
    "for col in train_px_df:\n",
    "#     print(\"* For attribute  '{}' , there are [ {} ] unique values.\".format(col,\n",
    "#                     len(train_meta_df[col].unique())))\n",
    "    stats_cols.append(col)\n",
    "    num_unique.append(len(train_px_df[col].unique()))\n",
    "    \n",
    "train_df_stats = pd.DataFrame(\n",
    "    {'col_name': stats_cols,\n",
    "     'value_count': num_unique,\n",
    "     'nan_count': train_px_df.isna().sum()\n",
    "    })\n",
    "\n",
    "train_df_stats = train_df_stats.sort_values(by=['value_count'], ascending=False).reset_index(drop=True)\n",
    "train_df_stats = train_df_stats.set_index('col_name').T\n",
    "train_df_stats"
   ]
  },
  {
   "cell_type": "code",
   "execution_count": null,
   "id": "fc7da28d",
   "metadata": {},
   "outputs": [],
   "source": [
    "stats_cols = []\n",
    "num_unique = []\n",
    "\n",
    "for col in test_px_df:\n",
    "#     print(\"* For attribute  '{}' , there are [ {} ] unique values.\".format(col,\n",
    "#                     len(train_meta_df[col].unique())))\n",
    "    stats_cols.append(col)\n",
    "    num_unique.append(len(test_px_df[col].unique()))\n",
    "    \n",
    "test_df_stats = pd.DataFrame(\n",
    "    {'col_name': stats_cols,\n",
    "     'value_count': num_unique,\n",
    "     'nan_count': test_px_df.isna().sum()\n",
    "    })\n",
    "\n",
    "test_df_stats = test_df_stats.sort_values(by=['value_count'], ascending=False).reset_index(drop=True)\n",
    "test_df_stats = test_df_stats.set_index('col_name').T\n",
    "test_df_stats"
   ]
  },
  {
   "cell_type": "code",
   "execution_count": null,
   "id": "df46d204",
   "metadata": {},
   "outputs": [],
   "source": [
    "print(train_px_df.min_px.unique(), train_px_df.max_px.unique())\n",
    "print(test_px_df.min_px.unique(), test_px_df.max_px.unique())"
   ]
  },
  {
   "cell_type": "code",
   "execution_count": null,
   "id": "0905859d",
   "metadata": {},
   "outputs": [],
   "source": [
    "min(train_px_df.mean_px.unique()), max(train_px_df.mean_px.unique())"
   ]
  },
  {
   "cell_type": "code",
   "execution_count": null,
   "id": "0976627a",
   "metadata": {},
   "outputs": [],
   "source": [
    "fig, axes = plt.subplots(1, 2, figsize=(25, 8), sharey=True)\n",
    "fig.suptitle('Train - Test Dataset Pixel Distributions Mean + STD')\n",
    "\n",
    "sns.histplot(ax=axes[0], data = train_px_df[['mean_px', 'std_px']], bins=50, alpha=0.5)\n",
    "axes[0].set_yscale('log')\n",
    "sns.histplot(ax=axes[1], data = test_px_df[['mean_px', 'std_px']], bins=50, alpha=0.5)\n",
    "plt.show();"
   ]
  },
  {
   "cell_type": "markdown",
   "id": "6ae739d0",
   "metadata": {},
   "source": [
    "## 3D visualizations"
   ]
  },
  {
   "cell_type": "code",
   "execution_count": null,
   "id": "798d9cac",
   "metadata": {},
   "outputs": [],
   "source": [
    "images = load_dicom_line(IMG_PATH_TRAIN + \"00000/FLAIR\")\n",
    "create_animation(images)"
   ]
  },
  {
   "cell_type": "code",
   "execution_count": null,
   "id": "48e59a09",
   "metadata": {},
   "outputs": [],
   "source": [
    "images = load_dicom_line(IMG_PATH_TRAIN + \"00000/T1w\")\n",
    "create_animation(images)"
   ]
  },
  {
   "cell_type": "code",
   "execution_count": null,
   "id": "c8e69958",
   "metadata": {},
   "outputs": [],
   "source": [
    "images = load_dicom_line(IMG_PATH_TRAIN + \"00000/T1wCE\")\n",
    "create_animation(images)"
   ]
  },
  {
   "cell_type": "code",
   "execution_count": null,
   "id": "344f45d9",
   "metadata": {},
   "outputs": [],
   "source": [
    "images = load_dicom_line(IMG_PATH_TRAIN + \"00000/T2w\")\n",
    "create_animation(images)"
   ]
  },
  {
   "cell_type": "code",
   "execution_count": null,
   "id": "379e4895",
   "metadata": {},
   "outputs": [],
   "source": []
  }
 ],
 "metadata": {
  "kernelspec": {
   "display_name": "Python 3 (ipykernel)",
   "language": "python",
   "name": "python3"
  },
  "language_info": {
   "codemirror_mode": {
    "name": "ipython",
    "version": 3
   },
   "file_extension": ".py",
   "mimetype": "text/x-python",
   "name": "python",
   "nbconvert_exporter": "python",
   "pygments_lexer": "ipython3",
   "version": "3.9.12"
  }
 },
 "nbformat": 4,
 "nbformat_minor": 5
}
